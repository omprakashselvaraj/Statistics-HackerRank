{
  "nbformat": 4,
  "nbformat_minor": 0,
  "metadata": {
    "colab": {
      "provenance": [],
      "authorship_tag": "ABX9TyO/qgMymI0/tnU1bS7qXrLj",
      "include_colab_link": true
    },
    "kernelspec": {
      "name": "python3",
      "display_name": "Python 3"
    },
    "language_info": {
      "name": "python"
    }
  },
  "cells": [
    {
      "cell_type": "markdown",
      "metadata": {
        "id": "view-in-github",
        "colab_type": "text"
      },
      "source": [
        "<a href=\"https://colab.research.google.com/github/omprakashselvaraj/Statistics-HackerRank/blob/main/Binomial_dist_2.ipynb\" target=\"_parent\"><img src=\"https://colab.research.google.com/assets/colab-badge.svg\" alt=\"Open In Colab\"/></a>"
      ]
    },
    {
      "cell_type": "code",
      "execution_count": 1,
      "metadata": {
        "id": "pVlduXJHt0lm"
      },
      "outputs": [],
      "source": [
        "def fact(n):\n",
        "  if n == 0:\n",
        "    return 1\n",
        "  else:\n",
        "    return n * fact(n -1)"
      ]
    },
    {
      "cell_type": "code",
      "source": [
        "def comb(n, x):\n",
        "    return (fact(n) // (fact(x) * fact(n - x)))"
      ],
      "metadata": {
        "id": "JhCPI1uSuaXp"
      },
      "execution_count": 2,
      "outputs": []
    },
    {
      "cell_type": "code",
      "source": [
        "def binomial(x, n, p):\n",
        "    return comb(n, x) * p**x * (1-p)**(n-x)"
      ],
      "metadata": {
        "id": "kqTn9Jvyua5M"
      },
      "execution_count": 3,
      "outputs": []
    },
    {
      "cell_type": "code",
      "source": [
        "if __name__ == '__main__':\n",
        "  p, n = list(map(int, input().split(\" \")))\n",
        "  print(round(sum([binomial(i, n, p/100) for i in range(3)]), 3))\n",
        "  print(round(sum([binomial(i, n, p/100) for i in range(2, n+1)]), 3))"
      ],
      "metadata": {
        "colab": {
          "base_uri": "https://localhost:8080/"
        },
        "id": "0-Pj3VJkuiQw",
        "outputId": "bb9cdd4f-f78c-4e65-aaae-85a414831c57"
      },
      "execution_count": 4,
      "outputs": [
        {
          "output_type": "stream",
          "name": "stdout",
          "text": [
            "12 10\n",
            "0.891\n",
            "0.342\n"
          ]
        }
      ]
    },
    {
      "cell_type": "code",
      "source": [],
      "metadata": {
        "id": "gV3VhzNGvQ7i"
      },
      "execution_count": null,
      "outputs": []
    }
  ]
}