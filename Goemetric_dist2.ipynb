{
  "nbformat": 4,
  "nbformat_minor": 0,
  "metadata": {
    "colab": {
      "provenance": [],
      "authorship_tag": "ABX9TyOHEKvfRKQGJR9m/hr83gua",
      "include_colab_link": true
    },
    "kernelspec": {
      "name": "python3",
      "display_name": "Python 3"
    },
    "language_info": {
      "name": "python"
    }
  },
  "cells": [
    {
      "cell_type": "markdown",
      "metadata": {
        "id": "view-in-github",
        "colab_type": "text"
      },
      "source": [
        "<a href=\"https://colab.research.google.com/github/omprakashselvaraj/Statistics-HackerRank/blob/main/Goemetric_dist2.ipynb\" target=\"_parent\"><img src=\"https://colab.research.google.com/assets/colab-badge.svg\" alt=\"Open In Colab\"/></a>"
      ]
    },
    {
      "cell_type": "code",
      "execution_count": 1,
      "metadata": {
        "id": "GI86TuBzwzzv"
      },
      "outputs": [],
      "source": [
        "def geo_dist(num,den,n):\n",
        "    p = num / den\n",
        "    q = 1 - p\n",
        "    return round(p * q**(n - 1),3)"
      ]
    },
    {
      "cell_type": "code",
      "source": [
        "if __name__ == '__main__':\n",
        "    num,den = map(int,input().split())\n",
        "    n = int(input())\n",
        "    res = []\n",
        "    for i in range(1,n+1):\n",
        "        res.append(geo_dist(num,den,i))\n",
        "    print(round(sum(res),3))"
      ],
      "metadata": {
        "colab": {
          "base_uri": "https://localhost:8080/"
        },
        "id": "WbBE4_1hw14n",
        "outputId": "cc269aeb-5695-4d18-d168-043267f1faa9"
      },
      "execution_count": 2,
      "outputs": [
        {
          "output_type": "stream",
          "name": "stdout",
          "text": [
            "1 3\n",
            "5\n",
            "0.868\n"
          ]
        }
      ]
    },
    {
      "cell_type": "code",
      "source": [],
      "metadata": {
        "id": "9Q957zsPw4Vo"
      },
      "execution_count": null,
      "outputs": []
    }
  ]
}