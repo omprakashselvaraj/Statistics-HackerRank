{
  "nbformat": 4,
  "nbformat_minor": 0,
  "metadata": {
    "colab": {
      "provenance": [],
      "authorship_tag": "ABX9TyPSaLwYJsK45NXONLBjTWtx",
      "include_colab_link": true
    },
    "kernelspec": {
      "name": "python3",
      "display_name": "Python 3"
    },
    "language_info": {
      "name": "python"
    }
  },
  "cells": [
    {
      "cell_type": "markdown",
      "metadata": {
        "id": "view-in-github",
        "colab_type": "text"
      },
      "source": [
        "<a href=\"https://colab.research.google.com/github/omprakashselvaraj/Statistics-HackerRank/blob/main/Quartiles.ipynb\" target=\"_parent\"><img src=\"https://colab.research.google.com/assets/colab-badge.svg\" alt=\"Open In Colab\"/></a>"
      ]
    },
    {
      "cell_type": "code",
      "execution_count": 11,
      "metadata": {
        "id": "l1gENSRRUmVt"
      },
      "outputs": [],
      "source": [
        "def quartiles(data):\n",
        "  lb = []\n",
        "  ub = []\n",
        "  data.sort()\n",
        "  q2 = median(data)\n",
        "  for i in data:\n",
        "    if i < q2:\n",
        "      lb.append(i)\n",
        "    if i > q2:\n",
        "      ub.append(i)\n",
        "  q1 = median(lb)\n",
        "  q3 = median(ub)\n",
        "  return [round(q1),round(q2),round(q3)]"
      ]
    },
    {
      "cell_type": "code",
      "source": [
        "def median(arr):\n",
        "  arr.sort()\n",
        "  n = len(arr)\n",
        "  if n % 2 != 0:\n",
        "      ind = n // 2\n",
        "      return round(arr[ind],1)\n",
        "  else:\n",
        "      val = (arr[n//2] + arr[(n-1)//2])\n",
        "      return round(val/2,1)"
      ],
      "metadata": {
        "id": "8vGZ3rzKvCmG"
      },
      "execution_count": 12,
      "outputs": []
    },
    {
      "cell_type": "code",
      "source": [
        "if __name__ == '__main__':\n",
        "    n = int(input().strip())\n",
        "    data = list(map(int, input().rstrip().split()))\n",
        "    print(data.sort())\n",
        "    res = quartiles(data)\n",
        "    print(res)"
      ],
      "metadata": {
        "colab": {
          "base_uri": "https://localhost:8080/"
        },
        "id": "GomRt77OVnve",
        "outputId": "6202ae8a-732c-41a3-e16b-00c2482ba859"
      },
      "execution_count": 13,
      "outputs": [
        {
          "output_type": "stream",
          "name": "stdout",
          "text": [
            "9\n",
            "3 7 8 5 12 14 21 13 18\n",
            "None\n",
            "[6, 12, 16]\n"
          ]
        }
      ]
    },
    {
      "cell_type": "code",
      "source": [
        "data = [3,7,8,5,12,14,21,13,18]\n",
        "data.sort()\n",
        "data"
      ],
      "metadata": {
        "id": "Sut4YEplW_ri",
        "colab": {
          "base_uri": "https://localhost:8080/"
        },
        "outputId": "af36ff00-d5d0-4866-c6b0-f4bd6b637d8e"
      },
      "execution_count": 2,
      "outputs": [
        {
          "output_type": "execute_result",
          "data": {
            "text/plain": [
              "[3, 5, 7, 8, 12, 13, 14, 18, 21]"
            ]
          },
          "metadata": {},
          "execution_count": 2
        }
      ]
    },
    {
      "cell_type": "code",
      "source": [],
      "metadata": {
        "id": "KFJIIu_puB3Q"
      },
      "execution_count": null,
      "outputs": []
    }
  ]
}