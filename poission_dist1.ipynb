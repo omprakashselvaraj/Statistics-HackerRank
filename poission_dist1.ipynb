{
  "nbformat": 4,
  "nbformat_minor": 0,
  "metadata": {
    "colab": {
      "provenance": [],
      "authorship_tag": "ABX9TyPCu/kYndHBOAUR/uWFN3Ei",
      "include_colab_link": true
    },
    "kernelspec": {
      "name": "python3",
      "display_name": "Python 3"
    },
    "language_info": {
      "name": "python"
    }
  },
  "cells": [
    {
      "cell_type": "markdown",
      "metadata": {
        "id": "view-in-github",
        "colab_type": "text"
      },
      "source": [
        "<a href=\"https://colab.research.google.com/github/omprakashselvaraj/Statistics-HackerRank/blob/main/poission_dist1.ipynb\" target=\"_parent\"><img src=\"https://colab.research.google.com/assets/colab-badge.svg\" alt=\"Open In Colab\"/></a>"
      ]
    },
    {
      "cell_type": "code",
      "source": [
        "import math"
      ],
      "metadata": {
        "id": "LvL7vxVqyirE"
      },
      "execution_count": 4,
      "outputs": []
    },
    {
      "cell_type": "code",
      "source": [
        "def fact(n):\n",
        "  if n == 0:\n",
        "    return 1\n",
        "  else:\n",
        "    return n * fact(n - 1)"
      ],
      "metadata": {
        "id": "3QkwbvCCym1S"
      },
      "execution_count": 5,
      "outputs": []
    },
    {
      "cell_type": "code",
      "source": [
        "def poisson(lamb,n):\n",
        "  val = math.exp((-1)*lamb) * (lamb ** n) / fact(n)\n",
        "  return round(val,3)"
      ],
      "metadata": {
        "id": "rZl6Yi7oyWpk"
      },
      "execution_count": 6,
      "outputs": []
    },
    {
      "cell_type": "code",
      "execution_count": 7,
      "metadata": {
        "colab": {
          "base_uri": "https://localhost:8080/"
        },
        "id": "B5xgkODZx-HA",
        "outputId": "6f775f36-4ec2-4271-850f-216c6aa40f58"
      },
      "outputs": [
        {
          "output_type": "stream",
          "name": "stdout",
          "text": [
            "2.5\n",
            "5\n",
            "0.067\n"
          ]
        }
      ],
      "source": [
        "if __name__ == '__main__':\n",
        "  lamb = float(input())\n",
        "  n = int(input())\n",
        "  print(poisson(lamb,n))"
      ]
    },
    {
      "cell_type": "code",
      "source": [],
      "metadata": {
        "id": "z8VZUQg84lNA"
      },
      "execution_count": null,
      "outputs": []
    }
  ]
}