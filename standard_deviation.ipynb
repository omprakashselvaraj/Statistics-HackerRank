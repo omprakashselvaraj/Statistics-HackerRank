{
  "nbformat": 4,
  "nbformat_minor": 0,
  "metadata": {
    "colab": {
      "provenance": [],
      "authorship_tag": "ABX9TyMKudc8MsenJwO9jOptwmy1",
      "include_colab_link": true
    },
    "kernelspec": {
      "name": "python3",
      "display_name": "Python 3"
    },
    "language_info": {
      "name": "python"
    }
  },
  "cells": [
    {
      "cell_type": "markdown",
      "metadata": {
        "id": "view-in-github",
        "colab_type": "text"
      },
      "source": [
        "<a href=\"https://colab.research.google.com/github/omprakashselvaraj/Statistics-HackerRank/blob/main/standard_deviation.ipynb\" target=\"_parent\"><img src=\"https://colab.research.google.com/assets/colab-badge.svg\" alt=\"Open In Colab\"/></a>"
      ]
    },
    {
      "cell_type": "code",
      "execution_count": 1,
      "metadata": {
        "id": "3lL25DhD-1x4"
      },
      "outputs": [],
      "source": [
        "def mean(arr):\n",
        "    return round(sum(arr)/len(arr),1)"
      ]
    },
    {
      "cell_type": "code",
      "source": [
        "def stdDev(arr):\n",
        "  mean_val = mean(arr)\n",
        "  sum = 0\n",
        "  for i in arr:\n",
        "    sum += (mean_val - i)**2\n",
        "  print(round((sum/len(arr))**0.5,1))"
      ],
      "metadata": {
        "id": "_gVIpFwy_HWf"
      },
      "execution_count": 5,
      "outputs": []
    },
    {
      "cell_type": "code",
      "source": [
        "if __name__ == '__main__':\n",
        "  n = int(input().strip())\n",
        "  vals = list(map(int, input().rstrip().split()))\n",
        "  stdDev(vals)"
      ],
      "metadata": {
        "colab": {
          "base_uri": "https://localhost:8080/"
        },
        "id": "zvGzIHBHAF5g",
        "outputId": "13444b4c-3c38-4a43-c050-0a7bdaae4f5e"
      },
      "execution_count": 6,
      "outputs": [
        {
          "output_type": "stream",
          "name": "stdout",
          "text": [
            "5\n",
            "10 40 30 50 20\n",
            "14.1\n"
          ]
        }
      ]
    },
    {
      "cell_type": "code",
      "source": [],
      "metadata": {
        "id": "h2rh-3GaARcJ"
      },
      "execution_count": null,
      "outputs": []
    }
  ]
}