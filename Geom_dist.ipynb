{
  "nbformat": 4,
  "nbformat_minor": 0,
  "metadata": {
    "colab": {
      "provenance": [],
      "authorship_tag": "ABX9TyP7jQONavGMbRwKxB8ZvA2e",
      "include_colab_link": true
    },
    "kernelspec": {
      "name": "python3",
      "display_name": "Python 3"
    },
    "language_info": {
      "name": "python"
    }
  },
  "cells": [
    {
      "cell_type": "markdown",
      "metadata": {
        "id": "view-in-github",
        "colab_type": "text"
      },
      "source": [
        "<a href=\"https://colab.research.google.com/github/omprakashselvaraj/Statistics-HackerRank/blob/main/Geom_dist.ipynb\" target=\"_parent\"><img src=\"https://colab.research.google.com/assets/colab-badge.svg\" alt=\"Open In Colab\"/></a>"
      ]
    },
    {
      "cell_type": "code",
      "source": [
        "def geo_dist(num,den,n):\n",
        "  p = num / den\n",
        "  q = 1 - p\n",
        "  return p * q**(n - 1)"
      ],
      "metadata": {
        "id": "4HapjuwSuXAN"
      },
      "execution_count": null,
      "outputs": []
    },
    {
      "cell_type": "code",
      "execution_count": null,
      "metadata": {
        "colab": {
          "base_uri": "https://localhost:8080/"
        },
        "id": "y93YwaSArb0W",
        "outputId": "e243bb4c-9781-4c50-cf91-4981c962eb19"
      },
      "outputs": [
        {
          "output_type": "stream",
          "name": "stdout",
          "text": [
            "1 3\n",
            "5\n",
            "0.066\n"
          ]
        }
      ],
      "source": [
        "if __name__ == '__main__':\n",
        "  num,den = map(int,input().split())\n",
        "  n = int(input())\n",
        "  print(round(geo_dist(num,den,n),3))"
      ]
    },
    {
      "cell_type": "code",
      "source": [],
      "metadata": {
        "id": "_QGwuSJTu2hG"
      },
      "execution_count": null,
      "outputs": []
    }
  ]
}