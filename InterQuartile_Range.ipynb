{
  "nbformat": 4,
  "nbformat_minor": 0,
  "metadata": {
    "colab": {
      "provenance": [],
      "authorship_tag": "ABX9TyPiRxmEFdyIIW4QUpI3HtA7",
      "include_colab_link": true
    },
    "kernelspec": {
      "name": "python3",
      "display_name": "Python 3"
    },
    "language_info": {
      "name": "python"
    }
  },
  "cells": [
    {
      "cell_type": "markdown",
      "metadata": {
        "id": "view-in-github",
        "colab_type": "text"
      },
      "source": [
        "<a href=\"https://colab.research.google.com/github/omprakashselvaraj/Statistics-HackerRank/blob/main/InterQuartile_Range.ipynb\" target=\"_parent\"><img src=\"https://colab.research.google.com/assets/colab-badge.svg\" alt=\"Open In Colab\"/></a>"
      ]
    },
    {
      "cell_type": "code",
      "source": [
        "import math"
      ],
      "metadata": {
        "id": "CgpRpQps4wpb"
      },
      "execution_count": 22,
      "outputs": []
    },
    {
      "cell_type": "code",
      "source": [
        "def interQuartile(values, freqs):\n",
        "  li = []\n",
        "  dic = {values[i] : freqs[i] for i in range(len(values))}\n",
        "  for i in dic:\n",
        "    li = li + [i]*dic[i]\n",
        "  li.sort()\n",
        "  q1, q3 = quartiles(li)\n",
        "  iqr = q3 - q1\n",
        "  print(round(float(math.floor(q3 - q1)),1))"
      ],
      "metadata": {
        "id": "sZ2p4kzIyyT0"
      },
      "execution_count": 18,
      "outputs": []
    },
    {
      "cell_type": "code",
      "source": [
        "def median(arr):\n",
        "  arr.sort()\n",
        "  n = len(arr)\n",
        "  if n % 2 != 0:\n",
        "      ind = n // 2\n",
        "      return round(arr[ind],1)\n",
        "  else:\n",
        "      val = (arr[n//2] + arr[(n-1)//2])\n",
        "      return round(val/2,1)"
      ],
      "metadata": {
        "id": "5z1kkhqJ2IfW"
      },
      "execution_count": 19,
      "outputs": []
    },
    {
      "cell_type": "code",
      "source": [
        "def quartiles(data):\n",
        "  lb = []\n",
        "  ub = []\n",
        "  data.sort()\n",
        "  q2 = median(data)\n",
        "  for i in data:\n",
        "    if i < q2:\n",
        "      lb.append(i)\n",
        "    if i > q2:\n",
        "      ub.append(i)\n",
        "  q1 = median(lb)\n",
        "  q3 = median(ub)\n",
        "  return round(q1,1),round(q3,1)"
      ],
      "metadata": {
        "id": "-_fi28rU1_pk"
      },
      "execution_count": 20,
      "outputs": []
    },
    {
      "cell_type": "code",
      "source": [
        "if __name__ == '__main__':\n",
        "    n = int(input().strip())\n",
        "    val = list(map(int, input().rstrip().split()))\n",
        "    freq = list(map(int, input().rstrip().split()))\n",
        "    # val = [6,12,8,10,20,16]\n",
        "    # freq = [5, 4, 3, 2, 1, 5]\n",
        "    interQuartile(val, freq)"
      ],
      "metadata": {
        "colab": {
          "base_uri": "https://localhost:8080/"
        },
        "id": "eZFhpo0Y1O1O",
        "outputId": "bd595f2c-1019-48dc-bc9a-25c4ecab7bbc"
      },
      "execution_count": 23,
      "outputs": [
        {
          "output_type": "stream",
          "name": "stdout",
          "text": [
            "6\n",
            "6 12 8 10 20 16\n",
            "5 4 3 2 1 5\n",
            "9.0\n"
          ]
        }
      ]
    },
    {
      "cell_type": "code",
      "source": [],
      "metadata": {
        "id": "jlY4w0F81182"
      },
      "execution_count": null,
      "outputs": []
    }
  ]
}