{
  "nbformat": 4,
  "nbformat_minor": 0,
  "metadata": {
    "colab": {
      "provenance": [],
      "authorship_tag": "ABX9TyPj8HNQbecYu3a/k/MBao9P",
      "include_colab_link": true
    },
    "kernelspec": {
      "name": "python3",
      "display_name": "Python 3"
    },
    "language_info": {
      "name": "python"
    }
  },
  "cells": [
    {
      "cell_type": "markdown",
      "metadata": {
        "id": "view-in-github",
        "colab_type": "text"
      },
      "source": [
        "<a href=\"https://colab.research.google.com/github/omprakashselvaraj/Statistics-HackerRank/blob/main/binomial_distribution.ipynb\" target=\"_parent\"><img src=\"https://colab.research.google.com/assets/colab-badge.svg\" alt=\"Open In Colab\"/></a>"
      ]
    },
    {
      "cell_type": "code",
      "execution_count": 1,
      "metadata": {
        "id": "kBV493SvjFxx"
      },
      "outputs": [],
      "source": [
        "import math"
      ]
    },
    {
      "cell_type": "code",
      "source": [
        "def fact(n):\n",
        "  if n == 0:\n",
        "    return 1\n",
        "  else:\n",
        "    return n * fact(n -1)\n",
        "\n",
        "def comb(n, x):\n",
        "    return (fact(n) // (fact(x) * fact(n - x)))"
      ],
      "metadata": {
        "id": "8PSSLmM5lEXU"
      },
      "execution_count": 12,
      "outputs": []
    },
    {
      "cell_type": "code",
      "source": [
        "def binomal_dist(boys,girls,n):\n",
        "  res = []\n",
        "  p_boys = boys/(boys + girls)\n",
        "  p_girls = 1 - p_boys\n",
        "  n_boys = 3\n",
        "  for i in range(n_boys, n+1):\n",
        "    res.append(comb(n, i)*(p_boys ** i)*(p_girls ** (n - i)))\n",
        "  return round(sum(res),3)\n"
      ],
      "metadata": {
        "id": "TEUDRc-KkDom"
      },
      "execution_count": 13,
      "outputs": []
    },
    {
      "cell_type": "code",
      "source": [
        "if __name__ == '__main__':\n",
        "  boys,girls = map(float,input().split())\n",
        "  print(binomal_dist(boys,girls,6))"
      ],
      "metadata": {
        "colab": {
          "base_uri": "https://localhost:8080/"
        },
        "id": "6TWjvq4QjQyD",
        "outputId": "1bbcec77-f3bd-4d7f-b275-fb79306d6488"
      },
      "execution_count": 14,
      "outputs": [
        {
          "output_type": "stream",
          "name": "stdout",
          "text": [
            "1.09 1\n",
            "0.696\n"
          ]
        }
      ]
    },
    {
      "cell_type": "code",
      "source": [],
      "metadata": {
        "id": "x8S5zl6CjlVF"
      },
      "execution_count": null,
      "outputs": []
    }
  ]
}