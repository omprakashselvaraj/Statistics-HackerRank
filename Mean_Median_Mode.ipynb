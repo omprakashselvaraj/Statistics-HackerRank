{
  "nbformat": 4,
  "nbformat_minor": 0,
  "metadata": {
    "colab": {
      "provenance": [],
      "authorship_tag": "ABX9TyNQ4xnnbxFcULOAn1Cl/Nl3",
      "include_colab_link": true
    },
    "kernelspec": {
      "name": "python3",
      "display_name": "Python 3"
    },
    "language_info": {
      "name": "python"
    }
  },
  "cells": [
    {
      "cell_type": "markdown",
      "metadata": {
        "id": "view-in-github",
        "colab_type": "text"
      },
      "source": [
        "<a href=\"https://colab.research.google.com/github/omprakashselvaraj/Statistics-HackerRank/blob/main/Mean_Median_Mode.ipynb\" target=\"_parent\"><img src=\"https://colab.research.google.com/assets/colab-badge.svg\" alt=\"Open In Colab\"/></a>"
      ]
    },
    {
      "cell_type": "code",
      "execution_count": 2,
      "metadata": {
        "id": "iAAuA1yVTISl"
      },
      "outputs": [],
      "source": [
        "def mean(arr):\n",
        "    return round(sum(arr)/len(arr),1)"
      ]
    },
    {
      "cell_type": "code",
      "source": [
        "def median(arr):\n",
        "  arr.sort()\n",
        "  n = len(arr)\n",
        "  if n % 2 != 0:\n",
        "      ind = n // 2\n",
        "      return round(arr[ind],1)\n",
        "  else:\n",
        "      val = (arr[n//2] + arr[(n-1)//2])\n",
        "      return round(val/2,1)"
      ],
      "metadata": {
        "id": "zcZyx14ITQP3"
      },
      "execution_count": 16,
      "outputs": []
    },
    {
      "cell_type": "code",
      "source": [
        "def mode(arr):\n",
        "  li = []\n",
        "  maxi = -1\n",
        "  ind = -1\n",
        "  mode_dict = {x:arr.count(x) for x in arr}\n",
        "  for key in mode_dict:\n",
        "    if mode_dict[key] > maxi:\n",
        "      maxi = mode_dict[key]\n",
        "      ind = key\n",
        "  if ind == -1:\n",
        "    return min(arr)\n",
        "  else:\n",
        "    return ind"
      ],
      "metadata": {
        "id": "-KEUhhJyVKE6"
      },
      "execution_count": 20,
      "outputs": []
    },
    {
      "cell_type": "code",
      "source": [
        "if __name__ == '__main__':\n",
        "  n = int(input())\n",
        "  arr = list(map(int,input().strip().split()))[:n]\n",
        "  print(mean(arr))\n",
        "  print(median(arr))\n",
        "  print(mode(arr))"
      ],
      "metadata": {
        "colab": {
          "base_uri": "https://localhost:8080/"
        },
        "id": "VTgNMOYqTZvP",
        "outputId": "c1625112-6fe0-42ea-fa27-1c7ce0627e02"
      },
      "execution_count": 21,
      "outputs": [
        {
          "output_type": "stream",
          "name": "stdout",
          "text": [
            "10\n",
            "64630 11735 14216 99233 14470 4978 73429 38120 51135 67060\n",
            "43900.6\n",
            "[4978, 11735, 14216, 14470, 38120, 51135, 64630, 67060, 73429, 99233]\n",
            "44627.5\n",
            "4978\n"
          ]
        }
      ]
    },
    {
      "cell_type": "code",
      "source": [],
      "metadata": {
        "id": "E3okBtYoUp7l"
      },
      "execution_count": null,
      "outputs": []
    }
  ]
}